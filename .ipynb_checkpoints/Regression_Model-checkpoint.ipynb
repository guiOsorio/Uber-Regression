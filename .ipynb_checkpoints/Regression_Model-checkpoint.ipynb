{
 "cells": [
  {
   "cell_type": "code",
   "execution_count": 2,
   "id": "e44a641b",
   "metadata": {},
   "outputs": [],
   "source": [
    "import math\n",
    "import numpy as np\n",
    "import pandas as pd\n",
    "import seaborn as sns\n",
    "import matplotlib.pyplot as plt\n",
    "from sklearn.model_selection import train_test_split\n",
    "from sklearn.linear_model import LinearRegression\n",
    "\n",
    "data = pd.read_excel('./Uber_Data.xlsx', sheet_name=2)"
   ]
  },
  {
   "cell_type": "code",
   "execution_count": 3,
   "id": "0f2d9477",
   "metadata": {},
   "outputs": [
    {
     "data": {
      "text/html": [
       "<div>\n",
       "<style scoped>\n",
       "    .dataframe tbody tr th:only-of-type {\n",
       "        vertical-align: middle;\n",
       "    }\n",
       "\n",
       "    .dataframe tbody tr th {\n",
       "        vertical-align: top;\n",
       "    }\n",
       "\n",
       "    .dataframe thead th {\n",
       "        text-align: right;\n",
       "    }\n",
       "</style>\n",
       "<table border=\"1\" class=\"dataframe\">\n",
       "  <thead>\n",
       "    <tr style=\"text-align: right;\">\n",
       "      <th></th>\n",
       "      <th>city_id</th>\n",
       "      <th>period_start</th>\n",
       "      <th>wait_time</th>\n",
       "      <th>treat</th>\n",
       "      <th>commute</th>\n",
       "      <th>trips_pool</th>\n",
       "      <th>trips_express</th>\n",
       "      <th>rider_cancellations</th>\n",
       "      <th>total_driver_payout</th>\n",
       "      <th>total_matches</th>\n",
       "      <th>total_double_matches</th>\n",
       "    </tr>\n",
       "  </thead>\n",
       "  <tbody>\n",
       "    <tr>\n",
       "      <th>0</th>\n",
       "      <td>Boston</td>\n",
       "      <td>2018-02-19 07:00:00</td>\n",
       "      <td>2 mins</td>\n",
       "      <td>False</td>\n",
       "      <td>True</td>\n",
       "      <td>1415</td>\n",
       "      <td>3245</td>\n",
       "      <td>256</td>\n",
       "      <td>34458.411634</td>\n",
       "      <td>3372</td>\n",
       "      <td>1476</td>\n",
       "    </tr>\n",
       "    <tr>\n",
       "      <th>1</th>\n",
       "      <td>Boston</td>\n",
       "      <td>2018-02-19 09:40:00</td>\n",
       "      <td>5 mins</td>\n",
       "      <td>True</td>\n",
       "      <td>False</td>\n",
       "      <td>1461</td>\n",
       "      <td>2363</td>\n",
       "      <td>203</td>\n",
       "      <td>29764.349821</td>\n",
       "      <td>2288</td>\n",
       "      <td>1275</td>\n",
       "    </tr>\n",
       "    <tr>\n",
       "      <th>2</th>\n",
       "      <td>Boston</td>\n",
       "      <td>2018-02-19 12:20:00</td>\n",
       "      <td>2 mins</td>\n",
       "      <td>False</td>\n",
       "      <td>False</td>\n",
       "      <td>1362</td>\n",
       "      <td>2184</td>\n",
       "      <td>118</td>\n",
       "      <td>27437.367363</td>\n",
       "      <td>2283</td>\n",
       "      <td>962</td>\n",
       "    </tr>\n",
       "    <tr>\n",
       "      <th>3</th>\n",
       "      <td>Boston</td>\n",
       "      <td>2018-02-19 15:00:00</td>\n",
       "      <td>5 mins</td>\n",
       "      <td>True</td>\n",
       "      <td>True</td>\n",
       "      <td>1984</td>\n",
       "      <td>3584</td>\n",
       "      <td>355</td>\n",
       "      <td>44995.452993</td>\n",
       "      <td>4035</td>\n",
       "      <td>2021</td>\n",
       "    </tr>\n",
       "    <tr>\n",
       "      <th>4</th>\n",
       "      <td>Boston</td>\n",
       "      <td>2018-02-19 17:40:00</td>\n",
       "      <td>2 mins</td>\n",
       "      <td>False</td>\n",
       "      <td>False</td>\n",
       "      <td>1371</td>\n",
       "      <td>2580</td>\n",
       "      <td>181</td>\n",
       "      <td>27583.955295</td>\n",
       "      <td>2200</td>\n",
       "      <td>979</td>\n",
       "    </tr>\n",
       "  </tbody>\n",
       "</table>\n",
       "</div>"
      ],
      "text/plain": [
       "  city_id        period_start wait_time  treat  commute  trips_pool  \\\n",
       "0  Boston 2018-02-19 07:00:00    2 mins  False     True        1415   \n",
       "1  Boston 2018-02-19 09:40:00    5 mins   True    False        1461   \n",
       "2  Boston 2018-02-19 12:20:00    2 mins  False    False        1362   \n",
       "3  Boston 2018-02-19 15:00:00    5 mins   True     True        1984   \n",
       "4  Boston 2018-02-19 17:40:00    2 mins  False    False        1371   \n",
       "\n",
       "   trips_express  rider_cancellations  total_driver_payout  total_matches  \\\n",
       "0           3245                  256         34458.411634           3372   \n",
       "1           2363                  203         29764.349821           2288   \n",
       "2           2184                  118         27437.367363           2283   \n",
       "3           3584                  355         44995.452993           4035   \n",
       "4           2580                  181         27583.955295           2200   \n",
       "\n",
       "   total_double_matches  \n",
       "0                  1476  \n",
       "1                  1275  \n",
       "2                   962  \n",
       "3                  2021  \n",
       "4                   979  "
      ]
     },
     "execution_count": 3,
     "metadata": {},
     "output_type": "execute_result"
    }
   ],
   "source": [
    "data.head()"
   ]
  },
  {
   "cell_type": "code",
   "execution_count": 4,
   "id": "e14b3333",
   "metadata": {},
   "outputs": [
    {
     "name": "stdout",
     "output_type": "stream",
     "text": [
      "Index(['city_id', 'period_start', 'wait_time', 'treat', 'commute',\n",
      "       'trips_pool', 'trips_express', 'rider_cancellations',\n",
      "       'total_driver_payout', 'total_matches', 'total_double_matches'],\n",
      "      dtype='object')\n"
     ]
    }
   ],
   "source": [
    "print(data.columns)"
   ]
  },
  {
   "cell_type": "markdown",
   "id": "69900b2f",
   "metadata": {},
   "source": [
    "Initial observations:\n",
    "    - create time of day variable based on switchback period start \n",
    "        -> classify as morning - 6 am to 11:59 pm, afternoon - 12 pm to 5:59 pm, evening - 6 pm to 11:59 pm, night - 12 am to 5:59 am)\n",
    "    - wait_time can be deleted since it is redundant (treat is False when wait_time is 2 mins and True if not)\n",
    "    - commute -> True if period in rush hours (7-9:40 am OR 3-5:40 pm), False if not\n",
    "    - research the meaning and differences behind POOL trips and EXPRESS trips (price, target consumer, service category)\n",
    "    - rider_cancellations -> VARIABLE TO BE PREDICTED (CONTINUOUS)\n",
    "    - total_driver_payout -> total amount paid by Uber to its drivers for rides related to this time period\n",
    "    - create cost per match (total_driver_payout / total_matches) and cost per completed trip (total_driver_payout / total trips)\n",
    "        - explore trips_pool, trips_express, total_matches and total_double_matches to findout any additional variables to be included, like total trips"
   ]
  }
 ],
 "metadata": {
  "kernelspec": {
   "display_name": "Python 3 (ipykernel)",
   "language": "python",
   "name": "python3"
  },
  "language_info": {
   "codemirror_mode": {
    "name": "ipython",
    "version": 3
   },
   "file_extension": ".py",
   "mimetype": "text/x-python",
   "name": "python",
   "nbconvert_exporter": "python",
   "pygments_lexer": "ipython3",
   "version": "3.9.7"
  }
 },
 "nbformat": 4,
 "nbformat_minor": 5
}
